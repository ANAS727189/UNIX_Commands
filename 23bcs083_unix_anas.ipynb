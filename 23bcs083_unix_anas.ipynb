{
  "nbformat": 4,
  "nbformat_minor": 0,
  "metadata": {
    "colab": {
      "provenance": [],
      "include_colab_link": true
    },
    "kernelspec": {
      "name": "python3",
      "display_name": "Python 3"
    },
    "language_info": {
      "name": "python"
    }
  },
  "cells": [
    {
      "cell_type": "markdown",
      "metadata": {
        "id": "view-in-github",
        "colab_type": "text"
      },
      "source": [
        "<a href=\"https://colab.research.google.com/github/ANAS727189/UNIX_Commands/blob/main/23bcs083_unix_anas.ipynb\" target=\"_parent\"><img src=\"https://colab.research.google.com/assets/colab-badge.svg\" alt=\"Open In Colab\"/></a>"
      ]
    },
    {
      "cell_type": "code",
      "source": [
        "                                                              # UNIX COMMANDS\n",
        "\n",
        "                                                     #      Roll no - 23bcs083    Name - Anas Khan"
      ],
      "metadata": {
        "id": "t21evL0__oNr"
      },
      "execution_count": null,
      "outputs": []
    },
    {
      "cell_type": "code",
      "execution_count": null,
      "metadata": {
        "id": "UzeJzL3s527V"
      },
      "outputs": [],
      "source": [
        "#!pwd"
      ]
    },
    {
      "cell_type": "markdown",
      "source": [
        " The pwd command stands for **print working directory and as the name says,it displays the directory in which we are currently** (directory is same as folder for Windows OS users)."
      ],
      "metadata": {
        "id": "BK3LNkOe6J1F"
      }
    },
    {
      "cell_type": "code",
      "source": [
        "#!who"
      ],
      "metadata": {
        "id": "RSZKT9Tt6Vg2"
      },
      "execution_count": null,
      "outputs": []
    },
    {
      "cell_type": "markdown",
      "source": [
        "The who command **displays all the users who have logged into the system currently.**"
      ],
      "metadata": {
        "id": "IYARG7276X63"
      }
    },
    {
      "cell_type": "code",
      "source": [
        "#!mkdir"
      ],
      "metadata": {
        "id": "6eUEjA9P6g-Z"
      },
      "execution_count": null,
      "outputs": []
    },
    {
      "cell_type": "markdown",
      "source": [
        "The mkdir stands for **make directory** and it creates a new directory."
      ],
      "metadata": {
        "id": "SAr5LghT68fp"
      }
    },
    {
      "cell_type": "code",
      "source": [
        "#!rmdir"
      ],
      "metadata": {
        "id": "7U9gpzZM7JxG"
      },
      "execution_count": null,
      "outputs": []
    },
    {
      "cell_type": "markdown",
      "source": [
        "The rmdir command **deletes any directory** we want to delete and you can remember it by its names rmdir which stands for **remove directory**."
      ],
      "metadata": {
        "id": "VIFa_89v7O2R"
      }
    },
    {
      "cell_type": "code",
      "source": [
        "#!cd"
      ],
      "metadata": {
        "id": "WwGYBrP-7YBg"
      },
      "execution_count": null,
      "outputs": []
    },
    {
      "cell_type": "markdown",
      "source": [
        "The cd command stands for **change directory** and it changes your *current* *directory* to the *newfolder directory*.You can understand this a double-clicking a folder and then you do some stuff in that folder."
      ],
      "metadata": {
        "id": "9z5h9aPY7ez2"
      }
    },
    {
      "cell_type": "code",
      "source": [
        "#ls"
      ],
      "metadata": {
        "id": "gOLbT0g27tMM"
      },
      "execution_count": null,
      "outputs": []
    },
    {
      "cell_type": "markdown",
      "source": [
        "The ls command simply displays the **contents of a directory**."
      ],
      "metadata": {
        "id": "35TJXWyl7xIQ"
      }
    },
    {
      "cell_type": "code",
      "source": [
        "#touch"
      ],
      "metadata": {
        "id": "FO-ruPVg8DKW"
      },
      "execution_count": null,
      "outputs": []
    },
    {
      "cell_type": "markdown",
      "source": [
        "The touch command **creates a file**(not directory) and you can simple add an extension such as .txt after it to make it a Text File."
      ],
      "metadata": {
        "id": "f-xBWytp8IwN"
      }
    },
    {
      "cell_type": "code",
      "source": [
        "#cp"
      ],
      "metadata": {
        "id": "MxkkZKNI8RKy"
      },
      "execution_count": null,
      "outputs": []
    },
    {
      "cell_type": "markdown",
      "source": [
        " This cp command stands for **copy and it simply copy/paste the file wherever you want to.**"
      ],
      "metadata": {
        "id": "UVUhxTHl8XTF"
      }
    },
    {
      "cell_type": "code",
      "source": [
        "#mv"
      ],
      "metadata": {
        "id": "EjJxuc848icW"
      },
      "execution_count": null,
      "outputs": []
    },
    {
      "cell_type": "markdown",
      "source": [
        "The mv command stands for **move** and it simply **move a file from a directory to another directory.**"
      ],
      "metadata": {
        "id": "JTKcfOv58mnd"
      }
    },
    {
      "cell_type": "code",
      "source": [
        "#!rm"
      ],
      "metadata": {
        "id": "fl3yFasT8sGl"
      },
      "execution_count": null,
      "outputs": []
    },
    {
      "cell_type": "markdown",
      "source": [
        "The rm  command for **remove and the -r simply recursively deletes file**"
      ],
      "metadata": {
        "id": "_rxOXvjR8tHH"
      }
    },
    {
      "cell_type": "code",
      "source": [
        "#chmod"
      ],
      "metadata": {
        "id": "w1JPvxuo85WG"
      },
      "execution_count": null,
      "outputs": []
    },
    {
      "cell_type": "markdown",
      "source": [
        "The  chmod command stands for **change mode command**.As there are many modes in Unix that can be used to manipulate files in the Unix environment.Basically there are 3 modes that we can use with the chmod command\n",
        "1. +w (stands for write and it changes file permissions to write)\n",
        "2. +r (stands for read and it changes file permissions to read)\n",
        "3. +x (generally it is used to make a file executable)"
      ],
      "metadata": {
        "id": "Dkh2Rlz388lS"
      }
    },
    {
      "cell_type": "code",
      "source": [
        "#cal"
      ],
      "metadata": {
        "id": "m64dX0VA9LwB"
      },
      "execution_count": null,
      "outputs": []
    },
    {
      "cell_type": "markdown",
      "source": [
        " The cal means **calendar** and it simply **display calendar on to your screen.**"
      ],
      "metadata": {
        "id": "tgAHP3UA9P-c"
      }
    },
    {
      "cell_type": "code",
      "source": [
        "#file"
      ],
      "metadata": {
        "id": "pO9bHQh59Uo-"
      },
      "execution_count": null,
      "outputs": []
    },
    {
      "cell_type": "markdown",
      "source": [
        "The file command *displays the type of file*.As I mentioned earlier Linux treats everything as a file so on executing the command file on a directory(Downloads) it **displays directory as the output**"
      ],
      "metadata": {
        "id": "PafsIaW99Xwt"
      }
    },
    {
      "cell_type": "code",
      "source": [
        "#sort"
      ],
      "metadata": {
        "id": "wuNK6SAV9iXl"
      },
      "execution_count": null,
      "outputs": []
    },
    {
      "cell_type": "markdown",
      "source": [
        "As the name suggests the  **sort** sorts the **contents of the file according to the ASCII rules.**"
      ],
      "metadata": {
        "id": "RWGJ81-M9zCc"
      }
    },
    {
      "cell_type": "code",
      "source": [
        "#grep"
      ],
      "metadata": {
        "id": "ikABTTZM95xs"
      },
      "execution_count": null,
      "outputs": []
    },
    {
      "cell_type": "markdown",
      "source": [
        "grep is an acronym for **globally search a regular expression and print it.**The grep command **searches the specified input fully(globally) for a match** **with the supplied pattern and displays it.**"
      ],
      "metadata": {
        "id": "ESg-Xfbh9-Qw"
      }
    },
    {
      "cell_type": "code",
      "source": [
        "#man"
      ],
      "metadata": {
        "id": "00qf18LJ-S5a"
      },
      "execution_count": null,
      "outputs": []
    },
    {
      "cell_type": "markdown",
      "source": [
        "The  man command stands for **manual and it can display the in-built manual** for most of the commands that we ever need"
      ],
      "metadata": {
        "id": "7RvjkYh7-c7g"
      }
    },
    {
      "cell_type": "code",
      "source": [
        "#lpr"
      ],
      "metadata": {
        "id": "xaJVQUqL-d3W"
      },
      "execution_count": null,
      "outputs": []
    },
    {
      "cell_type": "markdown",
      "source": [
        "The lpr command **send a file to the printer for printing.**"
      ],
      "metadata": {
        "id": "L3H7YLvT-gkB"
      }
    },
    {
      "cell_type": "code",
      "source": [
        "#passwd"
      ],
      "metadata": {
        "id": "3jR04kkV-hMs"
      },
      "execution_count": null,
      "outputs": []
    },
    {
      "cell_type": "markdown",
      "source": [
        "The passwd command simply **changes the password of the user**"
      ],
      "metadata": {
        "id": "BtxgWSgE-j8t"
      }
    },
    {
      "cell_type": "code",
      "source": [
        "#clear"
      ],
      "metadata": {
        "id": "D-Y5So2y-kjy"
      },
      "execution_count": null,
      "outputs": []
    },
    {
      "cell_type": "markdown",
      "source": [
        "The  clear command is used to **clean up the terminal so that you can type with** **more accuracy** 🙂"
      ],
      "metadata": {
        "id": "GNPjVjS--m8i"
      }
    },
    {
      "cell_type": "code",
      "source": [
        "#history"
      ],
      "metadata": {
        "id": "aSjZY34r-oB5"
      },
      "execution_count": null,
      "outputs": []
    },
    {
      "cell_type": "markdown",
      "source": [
        "The  history command is used to **get list of previous commands may be obtained by executing the following command. you can also use parameters like !n to re-execute the nth command, !! to executes the most recent command, and !cp this will execute the most recent command that starts with cp.**"
      ],
      "metadata": {
        "id": "BN1tNZap-q7D"
      }
    },
    {
      "cell_type": "code",
      "source": [],
      "metadata": {
        "id": "FluZnvoX-rjk"
      },
      "execution_count": null,
      "outputs": []
    }
  ]
}